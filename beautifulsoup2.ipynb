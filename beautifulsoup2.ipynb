{
 "cells": [
  {
   "cell_type": "code",
   "execution_count": null,
   "metadata": {},
   "outputs": [],
   "source": [
    "from bs4 import BeautifulSoup\n",
    "import requests\n",
    "urls = ['https://www.imdb.com/search/title/?release_date=2010-01-01,2010-12-31&sort=num_votes,desc&ref_=adv_prv', 'https://www.imdb.com/search/title/?release_date=2011-01-01,2011-12-31&sort=num_votes,desc&ref_=adv_prv',\n",
    "       'https://www.imdb.com/search/title/?release_date=2012-01-01,2012-12-31&sort=num_votes,desc&ref_=adv_prv', 'https://www.imdb.com/search/title/?release_date=2013-01-01,2013-12-31&sort=num_votes,desc&ref_=adv_prv',\n",
    "       'https://www.imdb.com/search/title/?release_date=2014-01-01,2014-12-31&sort=num_votes,desc&ref_=adv_prv']\n",
    "for i in urls:\n",
    "    res = requests.get(i)\n",
    "    data = BeautifulSoup(res.text,\"html.parser\")\n",
    "    a = data.find(class_ = \"lister-item mode-advanced\")\n",
    "    name = a.find(class_ = \"lister-item-content\").a.string\n",
    "    print(name)"
   ]
  },
  {
   "cell_type": "code",
   "execution_count": null,
   "metadata": {},
   "outputs": [],
   "source": [
    "from bs4 import BeautifulSoup\n",
    "import requests\n",
    "import time\n",
    "from random import randint\n",
    "\n",
    "dct = {}\n",
    "for i in range(1,202,50):\n",
    "    res = requests.get('https://www.imdb.com/search/title/?release_date=2018&sort=num_votes,desc&page=1&ref_=adv_nxt')\n",
    "    data = BeautifulSoup(res.text,\"html.parser\")\n",
    "    tags = data.find_all('div',class_='lister-item')\n",
    "    for j in tags:\n",
    "        if j.find('span',class_='runtime'):\n",
    "            head = j.find('h3',class_='lister-item-header')\n",
    "            dur = j.find('span',class_='runtime')\n",
    "            t= int(dur.text.strip().split(' ')[0])\n",
    "            dct[head.a.string] = t\n",
    "    time.sleep(randint(0,3))\n",
    "maxdur = -1\n",
    "maxnum = 0\n",
    "for k,v in dct.items():\n",
    "    if v>maxdur:\n",
    "        maxdur = v\n",
    "        maxname = k\n",
    "print(maxname,maxdur)"
   ]
  },
  {
   "cell_type": "code",
   "execution_count": null,
   "metadata": {},
   "outputs": [],
   "source": [
    "from bs4 import BeautifulSoup\n",
    "import requests\n",
    "\n",
    "response = requests.get('https://en.wikipedia.org/wiki/Artificial_intelligence')\n",
    "data = BeautifulSoup(response.text,\"html.parser\")\n",
    "all_tag = data.find_all('img')\n",
    "max_area = -1\n",
    "url = ''\n",
    "for i in all_tag :\n",
    "    if i.has_attr('height') and i.has_attr('width'):\n",
    "        if int(i['height']) * int(i['width']) > max_area:\n",
    "            max_area = int(i['height']) * int(i['width'])\n",
    "            url = i['src']\n",
    "print(url)"
   ]
  },
  {
   "cell_type": "code",
   "execution_count": null,
   "metadata": {},
   "outputs": [],
   "source": [
    "from bs4 import BeautifulSoup\n",
    "import requests\n",
    "\n",
    "response = requests.get('https://en.wikipedia.org/wiki/Artificial_intelligence')\n",
    "data = BeautifulSoup(response.text,\"html.parser\")\n",
    "all_tag = data.find_all('img')\n",
    "max_area = -1\n",
    "url = ''\n",
    "for i in all_tag :\n",
    "    if i.has_attr('height') and i.has_attr('width'):\n",
    "        if int(i['height']) * int(i['width']) > max_area:\n",
    "            max_area = int(i['height']) * int(i['width'])\n",
    "            url = i['src']\n",
    "print(url)"
   ]
  }
 ],
 "metadata": {
  "language_info": {
   "name": "python"
  },
  "orig_nbformat": 4
 },
 "nbformat": 4,
 "nbformat_minor": 2
}
