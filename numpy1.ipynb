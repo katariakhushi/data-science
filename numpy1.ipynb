{
 "cells": [
  {
   "cell_type": "code",
   "execution_count": null,
   "metadata": {},
   "outputs": [],
   "source": [
    "import numpy as np\n",
    "# create a numpy array\n",
    "nparray = np.array([ 1,  3,  5,  7,  9, 11, 13, 15, 17, 19])\n",
    "# find the indices of non-zero elements in the array using np.where\n",
    "# np.where returns a tuple with a single element, which is an array of indices where the condition is true\n",
    "# we access this array using [0] and use a for loop to iterate over the indices\n",
    "for i in np.where(nparray %3== 0)[0]:\n",
    "    # print the index with a space separator\n",
    "    print(i, end=' ')"
   ]
  },
  {
   "cell_type": "code",
   "execution_count": null,
   "metadata": {},
   "outputs": [],
   "source": [
    "import numpy as np\n",
    "arr = np.arange(1,11)\n",
    "arr[arr % 2 != 0] = -1\n",
    "print(*arr)\n"
   ]
  },
  {
   "cell_type": "code",
   "execution_count": null,
   "metadata": {},
   "outputs": [],
   "source": [
    "import numpy as np\n",
    "arr = np.array([11, 2, 13, 4, 15, 6, 27, 8, 19])\n",
    "arr[arr.argmax()] = 0\n",
    "for i in arr :\n",
    "    print(i)"
   ]
  },
  {
   "cell_type": "code",
   "execution_count": null,
   "metadata": {},
   "outputs": [],
   "source": [
    "import numpy as np\n",
    "arr = np.arange(1,11)\n",
    "arr[2:8] = np.multiply(arr[2:8],-1)\n",
    "for i in arr:\n",
    "    print(i)"
   ]
  },
  {
   "cell_type": "code",
   "execution_count": null,
   "metadata": {},
   "outputs": [],
   "source": [
    "import numpy as np\n",
    "\n",
    "arr = np.array( [[21 ,20 ,19, 18 ,17],\n",
    "  [16, 15 ,14, 13, 12],\n",
    "  [11 ,10  ,9  ,8 , 7],\n",
    "  [ 6,  5  ,4,  3,  2]])\n",
    "shape = arr.shape\n",
    "arr = np.sort(arr, axis=None)\n",
    "arr = np.reshape(arr, shape)\n",
    "print(arr[:, ::-1])"
   ]
  },
  {
   "cell_type": "code",
   "execution_count": null,
   "metadata": {},
   "outputs": [],
   "source": [
    "import numpy as np\n",
    "import csv\n",
    "\n",
    "with open('terrorismData.csv',encoding=\"utf8\") as file_obj :\n",
    "    data = csv.DictReader(file_obj,skipinitialspace=True)\n",
    "\n",
    "    killed = []\n",
    "    country = []\n",
    "    for row in data:\n",
    "        killed.append(row['Killed'])\n",
    "        country.append(row['Country'])\n",
    "\n",
    "    np_killed = np.array(killed)\n",
    "    np_country = np.array(country)\n",
    "    \n",
    "    np_killed[np_killed=='']= '0.0'\n",
    "    np_killed = np.array(np_killed,dtype=float)\n",
    "    \n",
    "    np_country = np.array(country)\n",
    "    bool_arr = np_country == \"United States\"\n",
    "    ans = np_killed[bool_arr]\n",
    "    \n",
    "    print(int(np.sum(ans)))"
   ]
  }
 ],
 "metadata": {
  "language_info": {
   "name": "python"
  },
  "orig_nbformat": 4
 },
 "nbformat": 4,
 "nbformat_minor": 2
}
